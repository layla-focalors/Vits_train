{
 "cells": [
  {
   "cell_type": "code",
   "execution_count": 1,
   "metadata": {},
   "outputs": [
    {
     "name": "stdout",
     "output_type": "stream",
     "text": [
      "--upgrade --force-reinstall regex is installed\n",
      "--force-reinstall soundfile is installed\n",
      "--force-reinstall gradio is installed\n",
      "imageio==2.4.1 is installed\n",
      "--upgrade youtube-dl is installed\n",
      "moviepy is installed\n",
      "--no-build-isolation -r requirements.txt is installed\n",
      "--upgrade numpy is installed\n",
      "--upgrade --force-reinstall numba is installed\n",
      "--upgrade Cython is installed\n",
      "--upgrade pyzmq is installed\n",
      "pydantic==1.10.4 is installed\n",
      "ruamel.yaml is installed\n",
      "git+https://github.com/openai/whisper.git is installed\n"
     ]
    }
   ],
   "source": [
    "# install indepandancy\n",
    "\n",
    "import os\n",
    "lister = ['--upgrade --force-reinstall regex','--force-reinstall soundfile', '--force-reinstall gradio', 'imageio==2.4.1', '--upgrade youtube-dl', 'moviepy', 'zip', 'wget']\n",
    "for i in lister:\n",
    "    os.system('pip install ' + i)\n",
    "    print(i + ' is installed')\n",
    "    \n",
    "os.mkdir('VITS')\n",
    "os.chdir('VITS')\n",
    "os.system('git clone https://github.com/Plachtaa/VITS-fast-fine-tuning.git')\n",
    "os.chdir('VITS-fast-fine-tuning')\n",
    "\n",
    "lister = ['--no-build-isolation -r requirements.txt', '--upgrade numpy', '--upgrade --force-reinstall numba', '--upgrade Cython', '--upgrade pyzmq', 'pydantic==1.10.4', 'ruamel.yaml','git+https://github.com/openai/whisper.git']\n",
    "for i in lister:\n",
    "    os.system('pip install ' + i)\n",
    "    print(i + ' is installed')"
   ]
  },
  {
   "cell_type": "code",
   "execution_count": 2,
   "metadata": {},
   "outputs": [
    {
     "name": "stdout",
     "output_type": "stream",
     "text": [
      "Requirement already satisfied: wget in c:\\users\\starl\\appdata\\local\\programs\\python\\python310\\lib\\site-packages (3.2)Note: you may need to restart the kernel to use updated packages.\n",
      "\n"
     ]
    },
    {
     "name": "stderr",
     "output_type": "stream",
     "text": [
      "\n",
      "[notice] A new release of pip is available: 23.3.2 -> 24.0\n",
      "[notice] To update, run: python.exe -m pip install --upgrade pip\n"
     ]
    }
   ],
   "source": [
    "%pip install wget\n",
    "%pip install zip"
   ]
  },
  {
   "cell_type": "code",
   "execution_count": null,
   "metadata": {},
   "outputs": [],
   "source": [
    "import wget\n",
    "import zip\n",
    "os.chdir('cd monotonic_align')\n",
    "os.mkdir('monotonic_align')\n",
    "os.system('python setup.py build_ext --inplace')\n",
    "os.system('cd ..')\n",
    "os.mkdir('pretrained_models')\n",
    "\n",
    "wget.download('wget https://huggingface.co/datasets/Plachta/sampled_audio4ft/resolve/main/sampled_audio4ft_v2.zip')\n",
    "zip.extract('sampled_audio4ft_v2.zip')"
   ]
  }
 ],
 "metadata": {
  "kernelspec": {
   "display_name": "Python 3",
   "language": "python",
   "name": "python3"
  },
  "language_info": {
   "codemirror_mode": {
    "name": "ipython",
    "version": 3
   },
   "file_extension": ".py",
   "mimetype": "text/x-python",
   "name": "python",
   "nbconvert_exporter": "python",
   "pygments_lexer": "ipython3",
   "version": "3.10.6"
  }
 },
 "nbformat": 4,
 "nbformat_minor": 2
}
