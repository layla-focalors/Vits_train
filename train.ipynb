{
 "cells": [
  {
   "cell_type": "code",
   "execution_count": null,
   "metadata": {},
   "outputs": [],
   "source": [
    "# install indepandancy\n",
    "\n",
    "import os\n",
    "lister = ['--upgrade --force-reinstall regex','--force-reinstall soundfile', '--force-reinstall gradio', 'imageio==2.4.1', '--upgrade youtube-dl', 'moviepy']\n",
    "for i in lister:\n",
    "    os.system('pip install ' + i)\n",
    "    print(i + ' is installed')\n",
    "    \n",
    "os.mkdir('VITS')\n",
    "os.chdir('VITS')\n",
    "os.system('git clone https://github.com/Plachtaa/VITS-fast-fine-tuning.git')\n",
    "os.chdir('VITS-fast-fine-tuning')\n",
    "\n",
    "lister = ['--no-build-isolation -r requirements.txt', '--upgrade numpy', '--upgrade --force-reinstall numba', '--upgrade Cython', '--upgrade pyzmq', 'pydantic==1.10.4', 'ruamel.yaml','git+https://github.com/openai/whisper.git']\n",
    "for i in lister:\n",
    "    os.system('pip install ' + i)\n",
    "    print(i + ' is installed')"
   ]
  },
  {
   "cell_type": "code",
   "execution_count": null,
   "metadata": {},
   "outputs": [],
   "source": []
  }
 ],
 "metadata": {
  "kernelspec": {
   "display_name": "Python 3",
   "language": "python",
   "name": "python3"
  },
  "language_info": {
   "name": "python",
   "version": "3.10.6"
  }
 },
 "nbformat": 4,
 "nbformat_minor": 2
}
